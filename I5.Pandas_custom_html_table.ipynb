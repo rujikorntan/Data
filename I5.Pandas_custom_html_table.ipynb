{
 "cells": [
  {
   "cell_type": "code",
   "execution_count": 54,
   "metadata": {},
   "outputs": [],
   "source": [
    "import pandas as pd\n",
    "from IPython.display import HTML\n",
    "pd.set_option('display.max_colwidth', -1)   #-1 = แสดงทั้งหมด"
   ]
  },
  {
   "cell_type": "code",
   "execution_count": 55,
   "metadata": {},
   "outputs": [
    {
     "data": {
      "text/html": [
       "<div>\n",
       "<style scoped>\n",
       "    .dataframe tbody tr th:only-of-type {\n",
       "        vertical-align: middle;\n",
       "    }\n",
       "\n",
       "    .dataframe tbody tr th {\n",
       "        vertical-align: top;\n",
       "    }\n",
       "\n",
       "    .dataframe thead th {\n",
       "        text-align: right;\n",
       "    }\n",
       "</style>\n",
       "<table border=\"1\" class=\"dataframe\">\n",
       "  <thead>\n",
       "    <tr style=\"text-align: right;\">\n",
       "      <th></th>\n",
       "      <th>feed</th>\n",
       "    </tr>\n",
       "  </thead>\n",
       "  <tbody>\n",
       "    <tr>\n",
       "      <th>author</th>\n",
       "      <td>{'name': 'iTunes Store', 'uri': 'http://wwww.apple.com/th/itunes/'}</td>\n",
       "    </tr>\n",
       "    <tr>\n",
       "      <th>copyright</th>\n",
       "      <td>Copyright © 2018 Apple Inc. All rights reserved.</td>\n",
       "    </tr>\n",
       "    <tr>\n",
       "      <th>country</th>\n",
       "      <td>th</td>\n",
       "    </tr>\n",
       "    <tr>\n",
       "      <th>icon</th>\n",
       "      <td>http://itunes.apple.com/favicon.ico</td>\n",
       "    </tr>\n",
       "    <tr>\n",
       "      <th>id</th>\n",
       "      <td>https://rss.itunes.apple.com/api/v1/th/apple-music/hot-tracks/all/5/explicit.json</td>\n",
       "    </tr>\n",
       "    <tr>\n",
       "      <th>links</th>\n",
       "      <td>[{'self': 'https://rss.itunes.apple.com/api/v1/th/apple-music/hot-tracks/all/5/explicit.json'}, {'alternate': 'https://itunes.apple.com/WebObjects/MZStore.woa/wa/viewRoom?fcId=1165618791&amp;app=music'}]</td>\n",
       "    </tr>\n",
       "    <tr>\n",
       "      <th>results</th>\n",
       "      <td>[{'artistName': 'Drake', 'id': '1405366968', 'releaseDate': '2018-06-29', 'name': 'Don't Matter To Me (feat. Michael Jackson)', 'collectionName': 'Scorpion', 'kind': 'song', 'artistId': '271256', 'artistUrl': 'https://itunes.apple.com/th/artist/drake/271256?app=music', 'artworkUrl100': 'https://is2-ssl.mzstatic.com/image/thumb/Music125/v4/a9/7d/06/a97d06fa-7052-52b5-f0e7-fdcf8decd105/source/200x200bb.png', 'genres': [{'genreId': '18', 'name': 'Hip-Hop/Rap', 'url': 'https://itunes.apple.com/th/genre/id18'}, {'genreId': '34', 'name': 'Music', 'url': 'https://itunes.apple.com/th/genre/id34'}], 'url': 'https://itunes.apple.com/th/album/dont-matter-to-me-feat-michael-jackson/1405365674?i=1405366968&amp;app=music'}, {'artistName': 'HONNE', 'id': '1400878005', 'releaseDate': '2018-06-29', 'name': 'I Got You◑ (feat. Nana Rogues)', 'collectionName': 'I Got You ◑ / Forget Me Not ◐ - Single', 'kind': 'song', 'artistId': '906366067', 'artistUrl': 'https://itunes.apple.com/th/artist/honne/906366067?app=music', 'artworkUrl100': 'https://is4-ssl.mzstatic.com/image/thumb/Music115/v4/f5/ce/f9/f5cef979-66f6-482c-f012-1756b2a00b51/source/200x200bb.png', 'genres': [{'genreId': '20', 'name': 'Alternative', 'url': 'https://itunes.apple.com/th/genre/id20'}, {'genreId': '34', 'name': 'Music', 'url': 'https://itunes.apple.com/th/genre/id34'}], 'url': 'https://itunes.apple.com/th/album/i-got-you-feat-nana-rogues/1400877836?i=1400878005&amp;app=music'}, {'artistName': 'UrboyTJ', 'id': '1404307080', 'releaseDate': '2018-06-26', 'name': 'ไม่ตอบ', 'collectionName': 'ไม่ตอบ - Single', 'kind': 'song', 'artistId': '1089553981', 'artistUrl': 'https://itunes.apple.com/th/artist/urboytj/1089553981?app=music', 'artworkUrl100': 'https://is4-ssl.mzstatic.com/image/thumb/Music125/v4/e4/57/c6/e457c6f8-655e-ec29-d3de-c0a37b6597f1/source/200x200bb.png', 'genres': [{'genreId': '18', 'name': 'Hip-Hop/Rap', 'url': 'https://itunes.apple.com/th/genre/id18'}, {'genreId': '34', 'name': 'Music', 'url': 'https://itunes.apple.com/th/genre/id34'}], 'url': 'https://itunes.apple.com/th/album/%E0%B9%84%E0%B8%A1-%E0%B8%95%E0%B8%AD%E0%B8%9A/1404307072?i=1404307080&amp;app=music'}, {'artistName': 'HONNE', 'id': '1400878006', 'releaseDate': '2018-06-29', 'name': 'Forget Me Not ◐', 'collectionName': 'I Got You ◑ / Forget Me Not ◐ - Single', 'kind': 'song', 'artistId': '906366067', 'artistUrl': 'https://itunes.apple.com/th/artist/honne/906366067?app=music', 'artworkUrl100': 'https://is4-ssl.mzstatic.com/image/thumb/Music115/v4/f5/ce/f9/f5cef979-66f6-482c-f012-1756b2a00b51/source/200x200bb.png', 'genres': [{'genreId': '20', 'name': 'Alternative', 'url': 'https://itunes.apple.com/th/genre/id20'}, {'genreId': '34', 'name': 'Music', 'url': 'https://itunes.apple.com/th/genre/id34'}], 'url': 'https://itunes.apple.com/th/album/forget-me-not/1400877836?i=1400878006&amp;app=music'}, {'artistName': 'Ink Waruntorn', 'id': '1404170640', 'releaseDate': '2018-06-29', 'name': 'โลกที่ไม่มีเธอ', 'collectionName': 'โลกที่ไม่มีเธอ - Single', 'kind': 'song', 'artistId': '1085511635', 'artistUrl': 'https://itunes.apple.com/th/artist/ink-waruntorn/1085511635?app=music', 'artworkUrl100': 'https://is1-ssl.mzstatic.com/image/thumb/Music115/v4/a7/33/99/a73399bc-1927-312c-864e-ac6836ae38b4/source/200x200bb.png', 'genres': [{'genreId': '14', 'name': 'Pop', 'url': 'https://itunes.apple.com/th/genre/id14'}, {'genreId': '34', 'name': 'Music', 'url': 'https://itunes.apple.com/th/genre/id34'}], 'url': 'https://itunes.apple.com/th/album/%E0%B9%82%E0%B8%A5%E0%B8%81%E0%B8%97-%E0%B9%84%E0%B8%A1-%E0%B8%A1-%E0%B9%80%E0%B8%98%E0%B8%AD/1404170638?i=1404170640&amp;app=music'}]</td>\n",
       "    </tr>\n",
       "    <tr>\n",
       "      <th>title</th>\n",
       "      <td>Hot Tracks</td>\n",
       "    </tr>\n",
       "    <tr>\n",
       "      <th>updated</th>\n",
       "      <td>2018-07-04T01:57:00.000-07:00</td>\n",
       "    </tr>\n",
       "  </tbody>\n",
       "</table>\n",
       "</div>"
      ],
      "text/plain": [
       "                                                                                                                                                                                                                                                                                                                                                                                                                                                                                                                                                                                                                                                                                                                                                                                                                                                                                                                                                                                                                                                                                                                                                                                                                                                                                                                                                                                                                                                                                                                                                                                                                                                                                                                                                                                                                                                                                                                                                                                                                                                                                                                                                                                                                                                                                                                                                                                                                                                                                                                                                                                                                                                                                                                                                                                                                                                                                                                                                                                                                                                                                                                                                                                                                                                                                                                                                                                                                                                                                                                                                                                                                                                                                                                                                                           feed\n",
       "author     {'name': 'iTunes Store', 'uri': 'http://wwww.apple.com/th/itunes/'}                                                                                                                                                                                                                                                                                                                                                                                                                                                                                                                                                                                                                                                                                                                                                                                                                                                                                                                                                                                                                                                                                                                                                                                                                                                                                                                                                                                                                                                                                                                                                                                                                                                                                                                                                                                                                                                                                                                                                                                                                                                                                                                                                                                                                                                                                                                                                                                                                                                                                                                                                                                                                                                                                                                                                                                                                                                                                                                                                                                                                                                                                                                                                                                                                                                                                                                                                                                                                                                                                                                                                                                                                                                                                                 \n",
       "copyright  Copyright © 2018 Apple Inc. All rights reserved.                                                                                                                                                                                                                                                                                                                                                                                                                                                                                                                                                                                                                                                                                                                                                                                                                                                                                                                                                                                                                                                                                                                                                                                                                                                                                                                                                                                                                                                                                                                                                                                                                                                                                                                                                                                                                                                                                                                                                                                                                                                                                                                                                                                                                                                                                                                                                                                                                                                                                                                                                                                                                                                                                                                                                                                                                                                                                                                                                                                                                                                                                                                                                                                                                                                                                                                                                                                                                                                                                                                                                                                                                                                                                                                    \n",
       "country    th                                                                                                                                                                                                                                                                                                                                                                                                                                                                                                                                                                                                                                                                                                                                                                                                                                                                                                                                                                                                                                                                                                                                                                                                                                                                                                                                                                                                                                                                                                                                                                                                                                                                                                                                                                                                                                                                                                                                                                                                                                                                                                                                                                                                                                                                                                                                                                                                                                                                                                                                                                                                                                                                                                                                                                                                                                                                                                                                                                                                                                                                                                                                                                                                                                                                                                                                                                                                                                                                                                                                                                                                                                                                                                                                                                  \n",
       "icon       http://itunes.apple.com/favicon.ico                                                                                                                                                                                                                                                                                                                                                                                                                                                                                                                                                                                                                                                                                                                                                                                                                                                                                                                                                                                                                                                                                                                                                                                                                                                                                                                                                                                                                                                                                                                                                                                                                                                                                                                                                                                                                                                                                                                                                                                                                                                                                                                                                                                                                                                                                                                                                                                                                                                                                                                                                                                                                                                                                                                                                                                                                                                                                                                                                                                                                                                                                                                                                                                                                                                                                                                                                                                                                                                                                                                                                                                                                                                                                                                                 \n",
       "id         https://rss.itunes.apple.com/api/v1/th/apple-music/hot-tracks/all/5/explicit.json                                                                                                                                                                                                                                                                                                                                                                                                                                                                                                                                                                                                                                                                                                                                                                                                                                                                                                                                                                                                                                                                                                                                                                                                                                                                                                                                                                                                                                                                                                                                                                                                                                                                                                                                                                                                                                                                                                                                                                                                                                                                                                                                                                                                                                                                                                                                                                                                                                                                                                                                                                                                                                                                                                                                                                                                                                                                                                                                                                                                                                                                                                                                                                                                                                                                                                                                                                                                                                                                                                                                                                                                                                                                                   \n",
       "links      [{'self': 'https://rss.itunes.apple.com/api/v1/th/apple-music/hot-tracks/all/5/explicit.json'}, {'alternate': 'https://itunes.apple.com/WebObjects/MZStore.woa/wa/viewRoom?fcId=1165618791&app=music'}]                                                                                                                                                                                                                                                                                                                                                                                                                                                                                                                                                                                                                                                                                                                                                                                                                                                                                                                                                                                                                                                                                                                                                                                                                                                                                                                                                                                                                                                                                                                                                                                                                                                                                                                                                                                                                                                                                                                                                                                                                                                                                                                                                                                                                                                                                                                                                                                                                                                                                                                                                                                                                                                                                                                                                                                                                                                                                                                                                                                                                                                                                                                                                                                                                                                                                                                                                                                                                                                                                                                                                             \n",
       "results    [{'artistName': 'Drake', 'id': '1405366968', 'releaseDate': '2018-06-29', 'name': 'Don't Matter To Me (feat. Michael Jackson)', 'collectionName': 'Scorpion', 'kind': 'song', 'artistId': '271256', 'artistUrl': 'https://itunes.apple.com/th/artist/drake/271256?app=music', 'artworkUrl100': 'https://is2-ssl.mzstatic.com/image/thumb/Music125/v4/a9/7d/06/a97d06fa-7052-52b5-f0e7-fdcf8decd105/source/200x200bb.png', 'genres': [{'genreId': '18', 'name': 'Hip-Hop/Rap', 'url': 'https://itunes.apple.com/th/genre/id18'}, {'genreId': '34', 'name': 'Music', 'url': 'https://itunes.apple.com/th/genre/id34'}], 'url': 'https://itunes.apple.com/th/album/dont-matter-to-me-feat-michael-jackson/1405365674?i=1405366968&app=music'}, {'artistName': 'HONNE', 'id': '1400878005', 'releaseDate': '2018-06-29', 'name': 'I Got You◑ (feat. Nana Rogues)', 'collectionName': 'I Got You ◑ / Forget Me Not ◐ - Single', 'kind': 'song', 'artistId': '906366067', 'artistUrl': 'https://itunes.apple.com/th/artist/honne/906366067?app=music', 'artworkUrl100': 'https://is4-ssl.mzstatic.com/image/thumb/Music115/v4/f5/ce/f9/f5cef979-66f6-482c-f012-1756b2a00b51/source/200x200bb.png', 'genres': [{'genreId': '20', 'name': 'Alternative', 'url': 'https://itunes.apple.com/th/genre/id20'}, {'genreId': '34', 'name': 'Music', 'url': 'https://itunes.apple.com/th/genre/id34'}], 'url': 'https://itunes.apple.com/th/album/i-got-you-feat-nana-rogues/1400877836?i=1400878005&app=music'}, {'artistName': 'UrboyTJ', 'id': '1404307080', 'releaseDate': '2018-06-26', 'name': 'ไม่ตอบ', 'collectionName': 'ไม่ตอบ - Single', 'kind': 'song', 'artistId': '1089553981', 'artistUrl': 'https://itunes.apple.com/th/artist/urboytj/1089553981?app=music', 'artworkUrl100': 'https://is4-ssl.mzstatic.com/image/thumb/Music125/v4/e4/57/c6/e457c6f8-655e-ec29-d3de-c0a37b6597f1/source/200x200bb.png', 'genres': [{'genreId': '18', 'name': 'Hip-Hop/Rap', 'url': 'https://itunes.apple.com/th/genre/id18'}, {'genreId': '34', 'name': 'Music', 'url': 'https://itunes.apple.com/th/genre/id34'}], 'url': 'https://itunes.apple.com/th/album/%E0%B9%84%E0%B8%A1-%E0%B8%95%E0%B8%AD%E0%B8%9A/1404307072?i=1404307080&app=music'}, {'artistName': 'HONNE', 'id': '1400878006', 'releaseDate': '2018-06-29', 'name': 'Forget Me Not ◐', 'collectionName': 'I Got You ◑ / Forget Me Not ◐ - Single', 'kind': 'song', 'artistId': '906366067', 'artistUrl': 'https://itunes.apple.com/th/artist/honne/906366067?app=music', 'artworkUrl100': 'https://is4-ssl.mzstatic.com/image/thumb/Music115/v4/f5/ce/f9/f5cef979-66f6-482c-f012-1756b2a00b51/source/200x200bb.png', 'genres': [{'genreId': '20', 'name': 'Alternative', 'url': 'https://itunes.apple.com/th/genre/id20'}, {'genreId': '34', 'name': 'Music', 'url': 'https://itunes.apple.com/th/genre/id34'}], 'url': 'https://itunes.apple.com/th/album/forget-me-not/1400877836?i=1400878006&app=music'}, {'artistName': 'Ink Waruntorn', 'id': '1404170640', 'releaseDate': '2018-06-29', 'name': 'โลกที่ไม่มีเธอ', 'collectionName': 'โลกที่ไม่มีเธอ - Single', 'kind': 'song', 'artistId': '1085511635', 'artistUrl': 'https://itunes.apple.com/th/artist/ink-waruntorn/1085511635?app=music', 'artworkUrl100': 'https://is1-ssl.mzstatic.com/image/thumb/Music115/v4/a7/33/99/a73399bc-1927-312c-864e-ac6836ae38b4/source/200x200bb.png', 'genres': [{'genreId': '14', 'name': 'Pop', 'url': 'https://itunes.apple.com/th/genre/id14'}, {'genreId': '34', 'name': 'Music', 'url': 'https://itunes.apple.com/th/genre/id34'}], 'url': 'https://itunes.apple.com/th/album/%E0%B9%82%E0%B8%A5%E0%B8%81%E0%B8%97-%E0%B9%84%E0%B8%A1-%E0%B8%A1-%E0%B9%80%E0%B8%98%E0%B8%AD/1404170638?i=1404170640&app=music'}]\n",
       "title      Hot Tracks                                                                                                                                                                                                                                                                                                                                                                                                                                                                                                                                                                                                                                                                                                                                                                                                                                                                                                                                                                                                                                                                                                                                                                                                                                                                                                                                                                                                                                                                                                                                                                                                                                                                                                                                                                                                                                                                                                                                                                                                                                                                                                                                                                                                                                                                                                                                                                                                                                                                                                                                                                                                                                                                                                                                                                                                                                                                                                                                                                                                                                                                                                                                                                                                                                                                                                                                                                                                                                                                                                                                                                                                                                                                                                                                                          \n",
       "updated    2018-07-04T01:57:00.000-07:00                                                                                                                                                                                                                                                                                                                                                                                                                                                                                                                                                                                                                                                                                                                                                                                                                                                                                                                                                                                                                                                                                                                                                                                                                                                                                                                                                                                                                                                                                                                                                                                                                                                                                                                                                                                                                                                                                                                                                                                                                                                                                                                                                                                                                                                                                                                                                                                                                                                                                                                                                                                                                                                                                                                                                                                                                                                                                                                                                                                                                                                                                                                                                                                                                                                                                                                                                                                                                                                                                                                                                                                                                                                                                                                                       "
      ]
     },
     "execution_count": 55,
     "metadata": {},
     "output_type": "execute_result"
    }
   ],
   "source": [
    "df_j= pd.read_json('https://rss.itunes.apple.com/api/v1/th/apple-music/hot-tracks/all/5/explicit.json')\n",
    "df_j"
   ]
  },
  {
   "cell_type": "code",
   "execution_count": 56,
   "metadata": {},
   "outputs": [
    {
     "data": {
      "text/html": [
       "<div>\n",
       "<style scoped>\n",
       "    .dataframe tbody tr th:only-of-type {\n",
       "        vertical-align: middle;\n",
       "    }\n",
       "\n",
       "    .dataframe tbody tr th {\n",
       "        vertical-align: top;\n",
       "    }\n",
       "\n",
       "    .dataframe thead th {\n",
       "        text-align: right;\n",
       "    }\n",
       "</style>\n",
       "<table border=\"1\" class=\"dataframe\">\n",
       "  <thead>\n",
       "    <tr style=\"text-align: right;\">\n",
       "      <th></th>\n",
       "      <th>artistId</th>\n",
       "      <th>artistName</th>\n",
       "      <th>artistUrl</th>\n",
       "      <th>artworkUrl100</th>\n",
       "      <th>collectionName</th>\n",
       "      <th>genres</th>\n",
       "      <th>id</th>\n",
       "      <th>kind</th>\n",
       "      <th>name</th>\n",
       "      <th>releaseDate</th>\n",
       "      <th>url</th>\n",
       "    </tr>\n",
       "  </thead>\n",
       "  <tbody>\n",
       "    <tr>\n",
       "      <th>0</th>\n",
       "      <td>271256</td>\n",
       "      <td>Drake</td>\n",
       "      <td>https://itunes.apple.com/th/artist/drake/271256?app=music</td>\n",
       "      <td>https://is2-ssl.mzstatic.com/image/thumb/Music125/v4/a9/7d/06/a97d06fa-7052-52b5-f0e7-fdcf8decd105/source/200x200bb.png</td>\n",
       "      <td>Scorpion</td>\n",
       "      <td>[{'genreId': '18', 'name': 'Hip-Hop/Rap', 'url': 'https://itunes.apple.com/th/genre/id18'}, {'genreId': '34', 'name': 'Music', 'url': 'https://itunes.apple.com/th/genre/id34'}]</td>\n",
       "      <td>1405366968</td>\n",
       "      <td>song</td>\n",
       "      <td>Don't Matter To Me (feat. Michael Jackson)</td>\n",
       "      <td>2018-06-29</td>\n",
       "      <td>https://itunes.apple.com/th/album/dont-matter-to-me-feat-michael-jackson/1405365674?i=1405366968&amp;app=music</td>\n",
       "    </tr>\n",
       "    <tr>\n",
       "      <th>1</th>\n",
       "      <td>906366067</td>\n",
       "      <td>HONNE</td>\n",
       "      <td>https://itunes.apple.com/th/artist/honne/906366067?app=music</td>\n",
       "      <td>https://is4-ssl.mzstatic.com/image/thumb/Music115/v4/f5/ce/f9/f5cef979-66f6-482c-f012-1756b2a00b51/source/200x200bb.png</td>\n",
       "      <td>I Got You ◑ / Forget Me Not ◐ - Single</td>\n",
       "      <td>[{'genreId': '20', 'name': 'Alternative', 'url': 'https://itunes.apple.com/th/genre/id20'}, {'genreId': '34', 'name': 'Music', 'url': 'https://itunes.apple.com/th/genre/id34'}]</td>\n",
       "      <td>1400878005</td>\n",
       "      <td>song</td>\n",
       "      <td>I Got You◑ (feat. Nana Rogues)</td>\n",
       "      <td>2018-06-29</td>\n",
       "      <td>https://itunes.apple.com/th/album/i-got-you-feat-nana-rogues/1400877836?i=1400878005&amp;app=music</td>\n",
       "    </tr>\n",
       "    <tr>\n",
       "      <th>2</th>\n",
       "      <td>1089553981</td>\n",
       "      <td>UrboyTJ</td>\n",
       "      <td>https://itunes.apple.com/th/artist/urboytj/1089553981?app=music</td>\n",
       "      <td>https://is4-ssl.mzstatic.com/image/thumb/Music125/v4/e4/57/c6/e457c6f8-655e-ec29-d3de-c0a37b6597f1/source/200x200bb.png</td>\n",
       "      <td>ไม่ตอบ - Single</td>\n",
       "      <td>[{'genreId': '18', 'name': 'Hip-Hop/Rap', 'url': 'https://itunes.apple.com/th/genre/id18'}, {'genreId': '34', 'name': 'Music', 'url': 'https://itunes.apple.com/th/genre/id34'}]</td>\n",
       "      <td>1404307080</td>\n",
       "      <td>song</td>\n",
       "      <td>ไม่ตอบ</td>\n",
       "      <td>2018-06-26</td>\n",
       "      <td>https://itunes.apple.com/th/album/%E0%B9%84%E0%B8%A1-%E0%B8%95%E0%B8%AD%E0%B8%9A/1404307072?i=1404307080&amp;app=music</td>\n",
       "    </tr>\n",
       "    <tr>\n",
       "      <th>3</th>\n",
       "      <td>906366067</td>\n",
       "      <td>HONNE</td>\n",
       "      <td>https://itunes.apple.com/th/artist/honne/906366067?app=music</td>\n",
       "      <td>https://is4-ssl.mzstatic.com/image/thumb/Music115/v4/f5/ce/f9/f5cef979-66f6-482c-f012-1756b2a00b51/source/200x200bb.png</td>\n",
       "      <td>I Got You ◑ / Forget Me Not ◐ - Single</td>\n",
       "      <td>[{'genreId': '20', 'name': 'Alternative', 'url': 'https://itunes.apple.com/th/genre/id20'}, {'genreId': '34', 'name': 'Music', 'url': 'https://itunes.apple.com/th/genre/id34'}]</td>\n",
       "      <td>1400878006</td>\n",
       "      <td>song</td>\n",
       "      <td>Forget Me Not ◐</td>\n",
       "      <td>2018-06-29</td>\n",
       "      <td>https://itunes.apple.com/th/album/forget-me-not/1400877836?i=1400878006&amp;app=music</td>\n",
       "    </tr>\n",
       "    <tr>\n",
       "      <th>4</th>\n",
       "      <td>1085511635</td>\n",
       "      <td>Ink Waruntorn</td>\n",
       "      <td>https://itunes.apple.com/th/artist/ink-waruntorn/1085511635?app=music</td>\n",
       "      <td>https://is1-ssl.mzstatic.com/image/thumb/Music115/v4/a7/33/99/a73399bc-1927-312c-864e-ac6836ae38b4/source/200x200bb.png</td>\n",
       "      <td>โลกที่ไม่มีเธอ - Single</td>\n",
       "      <td>[{'genreId': '14', 'name': 'Pop', 'url': 'https://itunes.apple.com/th/genre/id14'}, {'genreId': '34', 'name': 'Music', 'url': 'https://itunes.apple.com/th/genre/id34'}]</td>\n",
       "      <td>1404170640</td>\n",
       "      <td>song</td>\n",
       "      <td>โลกที่ไม่มีเธอ</td>\n",
       "      <td>2018-06-29</td>\n",
       "      <td>https://itunes.apple.com/th/album/%E0%B9%82%E0%B8%A5%E0%B8%81%E0%B8%97-%E0%B9%84%E0%B8%A1-%E0%B8%A1-%E0%B9%80%E0%B8%98%E0%B8%AD/1404170638?i=1404170640&amp;app=music</td>\n",
       "    </tr>\n",
       "  </tbody>\n",
       "</table>\n",
       "</div>"
      ],
      "text/plain": [
       "     artistId     artistName  \\\n",
       "0  271256      Drake           \n",
       "1  906366067   HONNE           \n",
       "2  1089553981  UrboyTJ         \n",
       "3  906366067   HONNE           \n",
       "4  1085511635  Ink Waruntorn   \n",
       "\n",
       "                                                               artistUrl  \\\n",
       "0  https://itunes.apple.com/th/artist/drake/271256?app=music               \n",
       "1  https://itunes.apple.com/th/artist/honne/906366067?app=music            \n",
       "2  https://itunes.apple.com/th/artist/urboytj/1089553981?app=music         \n",
       "3  https://itunes.apple.com/th/artist/honne/906366067?app=music            \n",
       "4  https://itunes.apple.com/th/artist/ink-waruntorn/1085511635?app=music   \n",
       "\n",
       "                                                                                                             artworkUrl100  \\\n",
       "0  https://is2-ssl.mzstatic.com/image/thumb/Music125/v4/a9/7d/06/a97d06fa-7052-52b5-f0e7-fdcf8decd105/source/200x200bb.png   \n",
       "1  https://is4-ssl.mzstatic.com/image/thumb/Music115/v4/f5/ce/f9/f5cef979-66f6-482c-f012-1756b2a00b51/source/200x200bb.png   \n",
       "2  https://is4-ssl.mzstatic.com/image/thumb/Music125/v4/e4/57/c6/e457c6f8-655e-ec29-d3de-c0a37b6597f1/source/200x200bb.png   \n",
       "3  https://is4-ssl.mzstatic.com/image/thumb/Music115/v4/f5/ce/f9/f5cef979-66f6-482c-f012-1756b2a00b51/source/200x200bb.png   \n",
       "4  https://is1-ssl.mzstatic.com/image/thumb/Music115/v4/a7/33/99/a73399bc-1927-312c-864e-ac6836ae38b4/source/200x200bb.png   \n",
       "\n",
       "                           collectionName  \\\n",
       "0  Scorpion                                 \n",
       "1  I Got You ◑ / Forget Me Not ◐ - Single   \n",
       "2  ไม่ตอบ - Single                          \n",
       "3  I Got You ◑ / Forget Me Not ◐ - Single   \n",
       "4  โลกที่ไม่มีเธอ - Single                  \n",
       "\n",
       "                                                                                                                                                                             genres  \\\n",
       "0  [{'genreId': '18', 'name': 'Hip-Hop/Rap', 'url': 'https://itunes.apple.com/th/genre/id18'}, {'genreId': '34', 'name': 'Music', 'url': 'https://itunes.apple.com/th/genre/id34'}]   \n",
       "1  [{'genreId': '20', 'name': 'Alternative', 'url': 'https://itunes.apple.com/th/genre/id20'}, {'genreId': '34', 'name': 'Music', 'url': 'https://itunes.apple.com/th/genre/id34'}]   \n",
       "2  [{'genreId': '18', 'name': 'Hip-Hop/Rap', 'url': 'https://itunes.apple.com/th/genre/id18'}, {'genreId': '34', 'name': 'Music', 'url': 'https://itunes.apple.com/th/genre/id34'}]   \n",
       "3  [{'genreId': '20', 'name': 'Alternative', 'url': 'https://itunes.apple.com/th/genre/id20'}, {'genreId': '34', 'name': 'Music', 'url': 'https://itunes.apple.com/th/genre/id34'}]   \n",
       "4  [{'genreId': '14', 'name': 'Pop', 'url': 'https://itunes.apple.com/th/genre/id14'}, {'genreId': '34', 'name': 'Music', 'url': 'https://itunes.apple.com/th/genre/id34'}]           \n",
       "\n",
       "           id  kind                                        name releaseDate  \\\n",
       "0  1405366968  song  Don't Matter To Me (feat. Michael Jackson)  2018-06-29   \n",
       "1  1400878005  song  I Got You◑ (feat. Nana Rogues)              2018-06-29   \n",
       "2  1404307080  song  ไม่ตอบ                                      2018-06-26   \n",
       "3  1400878006  song  Forget Me Not ◐                             2018-06-29   \n",
       "4  1404170640  song  โลกที่ไม่มีเธอ                              2018-06-29   \n",
       "\n",
       "                                                                                                                                                                 url  \n",
       "0  https://itunes.apple.com/th/album/dont-matter-to-me-feat-michael-jackson/1405365674?i=1405366968&app=music                                                         \n",
       "1  https://itunes.apple.com/th/album/i-got-you-feat-nana-rogues/1400877836?i=1400878005&app=music                                                                     \n",
       "2  https://itunes.apple.com/th/album/%E0%B9%84%E0%B8%A1-%E0%B8%95%E0%B8%AD%E0%B8%9A/1404307072?i=1404307080&app=music                                                 \n",
       "3  https://itunes.apple.com/th/album/forget-me-not/1400877836?i=1400878006&app=music                                                                                  \n",
       "4  https://itunes.apple.com/th/album/%E0%B9%82%E0%B8%A5%E0%B8%81%E0%B8%97-%E0%B9%84%E0%B8%A1-%E0%B8%A1-%E0%B9%80%E0%B8%98%E0%B8%AD/1404170638?i=1404170640&app=music  "
      ]
     },
     "execution_count": 56,
     "metadata": {},
     "output_type": "execute_result"
    }
   ],
   "source": [
    "df = pd.DataFrame(df_j['feed']['results'])\n",
    "df"
   ]
  },
  {
   "cell_type": "code",
   "execution_count": 57,
   "metadata": {},
   "outputs": [],
   "source": [
    "df['artwork'] = df.apply(lambda v: f'<img src={v.artworkUrl100} width=100, height=100/>', axis=1)"
   ]
  },
  {
   "cell_type": "code",
   "execution_count": 58,
   "metadata": {},
   "outputs": [
    {
     "data": {
      "text/plain": [
       "0    <img src=https://is2-ssl.mzstatic.com/image/thumb/Music125/v4/a9/7d/06/a97d06fa-7052-52b5-f0e7-fdcf8decd105/source/200x200bb.png width=100, height=100/>\n",
       "1    <img src=https://is4-ssl.mzstatic.com/image/thumb/Music115/v4/f5/ce/f9/f5cef979-66f6-482c-f012-1756b2a00b51/source/200x200bb.png width=100, height=100/>\n",
       "2    <img src=https://is4-ssl.mzstatic.com/image/thumb/Music125/v4/e4/57/c6/e457c6f8-655e-ec29-d3de-c0a37b6597f1/source/200x200bb.png width=100, height=100/>\n",
       "3    <img src=https://is4-ssl.mzstatic.com/image/thumb/Music115/v4/f5/ce/f9/f5cef979-66f6-482c-f012-1756b2a00b51/source/200x200bb.png width=100, height=100/>\n",
       "4    <img src=https://is1-ssl.mzstatic.com/image/thumb/Music115/v4/a7/33/99/a73399bc-1927-312c-864e-ac6836ae38b4/source/200x200bb.png width=100, height=100/>\n",
       "Name: artwork, dtype: object"
      ]
     },
     "execution_count": 58,
     "metadata": {},
     "output_type": "execute_result"
    }
   ],
   "source": [
    "df['artwork']"
   ]
  },
  {
   "cell_type": "code",
   "execution_count": 59,
   "metadata": {},
   "outputs": [
    {
     "data": {
      "text/html": [
       "<table border=\"1\" class=\"dataframe\">\n",
       "  <thead>\n",
       "    <tr style=\"text-align: right;\">\n",
       "      <th></th>\n",
       "      <th>artistName</th>\n",
       "      <th>artwork</th>\n",
       "    </tr>\n",
       "  </thead>\n",
       "  <tbody>\n",
       "    <tr>\n",
       "      <th>0</th>\n",
       "      <td>Drake</td>\n",
       "      <td><img src=https://is2-ssl.mzstatic.com/image/thumb/Music125/v4/a9/7d/06/a97d06fa-7052-52b5-f0e7-fdcf8decd105/source/200x200bb.png width=100, height=100/></td>\n",
       "    </tr>\n",
       "    <tr>\n",
       "      <th>1</th>\n",
       "      <td>HONNE</td>\n",
       "      <td><img src=https://is4-ssl.mzstatic.com/image/thumb/Music115/v4/f5/ce/f9/f5cef979-66f6-482c-f012-1756b2a00b51/source/200x200bb.png width=100, height=100/></td>\n",
       "    </tr>\n",
       "    <tr>\n",
       "      <th>2</th>\n",
       "      <td>UrboyTJ</td>\n",
       "      <td><img src=https://is4-ssl.mzstatic.com/image/thumb/Music125/v4/e4/57/c6/e457c6f8-655e-ec29-d3de-c0a37b6597f1/source/200x200bb.png width=100, height=100/></td>\n",
       "    </tr>\n",
       "    <tr>\n",
       "      <th>3</th>\n",
       "      <td>HONNE</td>\n",
       "      <td><img src=https://is4-ssl.mzstatic.com/image/thumb/Music115/v4/f5/ce/f9/f5cef979-66f6-482c-f012-1756b2a00b51/source/200x200bb.png width=100, height=100/></td>\n",
       "    </tr>\n",
       "    <tr>\n",
       "      <th>4</th>\n",
       "      <td>Ink Waruntorn</td>\n",
       "      <td><img src=https://is1-ssl.mzstatic.com/image/thumb/Music115/v4/a7/33/99/a73399bc-1927-312c-864e-ac6836ae38b4/source/200x200bb.png width=100, height=100/></td>\n",
       "    </tr>\n",
       "  </tbody>\n",
       "</table>"
      ],
      "text/plain": [
       "<IPython.core.display.HTML object>"
      ]
     },
     "execution_count": 59,
     "metadata": {},
     "output_type": "execute_result"
    }
   ],
   "source": [
    " HTML(df[['artistName', 'artwork']].to_html(escape=False))"
   ]
  },
  {
   "cell_type": "code",
   "execution_count": 61,
   "metadata": {
    "scrolled": true
   },
   "outputs": [],
   "source": [
    "df['song_url'] = df.apply(lambda v: f'<a href={v.url}>{v[\"name\"]}</a>', axis=1)"
   ]
  },
  {
   "cell_type": "code",
   "execution_count": 62,
   "metadata": {},
   "outputs": [
    {
     "data": {
      "text/plain": [
       "0    <a href=https://itunes.apple.com/th/album/dont-matter-to-me-feat-michael-jackson/1405365674?i=1405366968&app=music>Don't Matter To Me (feat. Michael Jackson)</a>                           \n",
       "1    <a href=https://itunes.apple.com/th/album/i-got-you-feat-nana-rogues/1400877836?i=1400878005&app=music>I Got You◑ (feat. Nana Rogues)</a>                                                   \n",
       "2    <a href=https://itunes.apple.com/th/album/%E0%B9%84%E0%B8%A1-%E0%B8%95%E0%B8%AD%E0%B8%9A/1404307072?i=1404307080&app=music>ไม่ตอบ</a>                                                       \n",
       "3    <a href=https://itunes.apple.com/th/album/forget-me-not/1400877836?i=1400878006&app=music>Forget Me Not ◐</a>                                                                               \n",
       "4    <a href=https://itunes.apple.com/th/album/%E0%B9%82%E0%B8%A5%E0%B8%81%E0%B8%97-%E0%B9%84%E0%B8%A1-%E0%B8%A1-%E0%B9%80%E0%B8%98%E0%B8%AD/1404170638?i=1404170640&app=music>โลกที่ไม่มีเธอ</a>\n",
       "Name: song_url, dtype: object"
      ]
     },
     "execution_count": 62,
     "metadata": {},
     "output_type": "execute_result"
    }
   ],
   "source": [
    "df['song_url']"
   ]
  },
  {
   "cell_type": "code",
   "execution_count": 63,
   "metadata": {},
   "outputs": [
    {
     "data": {
      "text/html": [
       "<table border=\"1\" class=\"dataframe\">\n",
       "  <thead>\n",
       "    <tr style=\"text-align: right;\">\n",
       "      <th></th>\n",
       "      <th>artistName</th>\n",
       "      <th>artwork</th>\n",
       "      <th>song_url</th>\n",
       "    </tr>\n",
       "  </thead>\n",
       "  <tbody>\n",
       "    <tr>\n",
       "      <th>0</th>\n",
       "      <td>Drake</td>\n",
       "      <td><img src=https://is2-ssl.mzstatic.com/image/thumb/Music125/v4/a9/7d/06/a97d06fa-7052-52b5-f0e7-fdcf8decd105/source/200x200bb.png width=100, height=100/></td>\n",
       "      <td><a href=https://itunes.apple.com/th/album/dont-matter-to-me-feat-michael-jackson/1405365674?i=1405366968&app=music>Don't Matter To Me (feat. Michael Jackson)</a></td>\n",
       "    </tr>\n",
       "    <tr>\n",
       "      <th>1</th>\n",
       "      <td>HONNE</td>\n",
       "      <td><img src=https://is4-ssl.mzstatic.com/image/thumb/Music115/v4/f5/ce/f9/f5cef979-66f6-482c-f012-1756b2a00b51/source/200x200bb.png width=100, height=100/></td>\n",
       "      <td><a href=https://itunes.apple.com/th/album/i-got-you-feat-nana-rogues/1400877836?i=1400878005&app=music>I Got You◑ (feat. Nana Rogues)</a></td>\n",
       "    </tr>\n",
       "    <tr>\n",
       "      <th>2</th>\n",
       "      <td>UrboyTJ</td>\n",
       "      <td><img src=https://is4-ssl.mzstatic.com/image/thumb/Music125/v4/e4/57/c6/e457c6f8-655e-ec29-d3de-c0a37b6597f1/source/200x200bb.png width=100, height=100/></td>\n",
       "      <td><a href=https://itunes.apple.com/th/album/%E0%B9%84%E0%B8%A1-%E0%B8%95%E0%B8%AD%E0%B8%9A/1404307072?i=1404307080&app=music>ไม่ตอบ</a></td>\n",
       "    </tr>\n",
       "    <tr>\n",
       "      <th>3</th>\n",
       "      <td>HONNE</td>\n",
       "      <td><img src=https://is4-ssl.mzstatic.com/image/thumb/Music115/v4/f5/ce/f9/f5cef979-66f6-482c-f012-1756b2a00b51/source/200x200bb.png width=100, height=100/></td>\n",
       "      <td><a href=https://itunes.apple.com/th/album/forget-me-not/1400877836?i=1400878006&app=music>Forget Me Not ◐</a></td>\n",
       "    </tr>\n",
       "    <tr>\n",
       "      <th>4</th>\n",
       "      <td>Ink Waruntorn</td>\n",
       "      <td><img src=https://is1-ssl.mzstatic.com/image/thumb/Music115/v4/a7/33/99/a73399bc-1927-312c-864e-ac6836ae38b4/source/200x200bb.png width=100, height=100/></td>\n",
       "      <td><a href=https://itunes.apple.com/th/album/%E0%B9%82%E0%B8%A5%E0%B8%81%E0%B8%97-%E0%B9%84%E0%B8%A1-%E0%B8%A1-%E0%B9%80%E0%B8%98%E0%B8%AD/1404170638?i=1404170640&app=music>โลกที่ไม่มีเธอ</a></td>\n",
       "    </tr>\n",
       "  </tbody>\n",
       "</table>"
      ],
      "text/plain": [
       "<IPython.core.display.HTML object>"
      ]
     },
     "execution_count": 63,
     "metadata": {},
     "output_type": "execute_result"
    }
   ],
   "source": [
    "HTML(df[['artistName', 'artwork', 'song_url']].to_html(escape=False))"
   ]
  },
  {
   "cell_type": "code",
   "execution_count": null,
   "metadata": {},
   "outputs": [],
   "source": []
  }
 ],
 "metadata": {
  "kernelspec": {
   "display_name": "Python 3",
   "language": "python",
   "name": "python3"
  },
  "language_info": {
   "codemirror_mode": {
    "name": "ipython",
    "version": 3
   },
   "file_extension": ".py",
   "mimetype": "text/x-python",
   "name": "python",
   "nbconvert_exporter": "python",
   "pygments_lexer": "ipython3",
   "version": "3.6.5"
  }
 },
 "nbformat": 4,
 "nbformat_minor": 2
}
