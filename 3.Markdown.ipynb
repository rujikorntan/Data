{
 "cells": [
  {
   "cell_type": "markdown",
   "metadata": {},
   "source": [
    "# Heading 1\n",
    "## Heading 2\n",
    "### Heading 3\n",
    "#### Heading 4\n",
    "##### Heading 5\n",
    "###### Heading 6"
   ]
  },
  {
   "cell_type": "markdown",
   "metadata": {},
   "source": [
    "1. Name\n",
    "2. Surename\n",
    "3.  Nickname"
   ]
  },
  {
   "cell_type": "markdown",
   "metadata": {},
   "source": [
    "* Lucy\n",
    "* Marcus\n",
    "* Cornor\n",
    "* Alice \n",
    "* Kara"
   ]
  },
  {
   "cell_type": "markdown",
   "metadata": {},
   "source": [
    "1. Name\n",
    "    * Lucy\n",
    "        * Lusy\n",
    "    * Marcus\n",
    "    * Cornor\n",
    "    * Alice \n",
    "    * Kara\n",
    "2. Surename\n",
    "3.  Nickname"
   ]
  },
  {
   "cell_type": "markdown",
   "metadata": {},
   "source": [
    "two spacebar + enter  \n",
    "line 1.  \n",
    "line 2.  \n",
    "lien 3."
   ]
  },
  {
   "cell_type": "markdown",
   "metadata": {},
   "source": [
    "## Emphasis (เน้นข้อความ)\n",
    "\n",
    "My name is  *Cornor*  -->เอียง  \n",
    "My friend name's  **Hank** --> หนา  \n",
    "I'm so ***boring***  --> หนา + เอียง  \n",
    "I hate ~~Amanda~~ --> ขีดฆ่า  \n",
    "I like  <span style=color:red>***red***</span> color.\n",
    "This world is freaking <span style=color:blue;font-size:150%>**Hot**</span>"
   ]
  },
  {
   "cell_type": "markdown",
   "metadata": {},
   "source": [
    "## Hyperlink\n",
    "https://youtube.com  \n",
    "[FACEBOOK](https://facebook.com)  \n",
    "## [TWITTER](https:\\\\twitter.com)"
   ]
  },
  {
   "cell_type": "markdown",
   "metadata": {},
   "source": [
    "## Photo  \n",
    "![](https://gamingroom.co/wp-content/uploads/2018/05/2.jpg \"Detroit become human\")"
   ]
  }
 ],
 "metadata": {
  "kernelspec": {
   "display_name": "Python 3",
   "language": "python",
   "name": "python3"
  },
  "language_info": {
   "codemirror_mode": {
    "name": "ipython",
    "version": 3
   },
   "file_extension": ".py",
   "mimetype": "text/x-python",
   "name": "python",
   "nbconvert_exporter": "python",
   "pygments_lexer": "ipython3",
   "version": "3.6.5"
  }
 },
 "nbformat": 4,
 "nbformat_minor": 2
}
