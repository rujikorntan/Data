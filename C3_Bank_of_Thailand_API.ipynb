{
 "cells": [
  {
   "cell_type": "markdown",
   "metadata": {},
   "source": [
    "url : https://iapi.bot.or.th/Developer?lang=en"
   ]
  },
  {
   "cell_type": "code",
   "execution_count": 60,
   "metadata": {},
   "outputs": [],
   "source": [
    "import requests"
   ]
  },
  {
   "cell_type": "code",
   "execution_count": 61,
   "metadata": {},
   "outputs": [],
   "source": [
    "url = \\\n",
    "    'https://iapi.bot.or.th/Stat/Stat-ExchangeRate/MONTHLY_AVG_EXG_RATE_V1/'\n",
    "querystring = {'start_period': '2002-01', 'end_period': '2002-02',\n",
    "               'currency': 'USD'}\n",
    "headers = {'api-key': 'U9G1L457H6DCugT7VmBaEacbHV9RX0PySO05cYaGsm'}\n",
    "response = requests.request('GET', url, headers=headers,\n",
    "                            params=querystring)"
   ]
  },
  {
   "cell_type": "code",
   "execution_count": 62,
   "metadata": {},
   "outputs": [
    {
     "data": {
      "text/plain": [
       "'{\"result\":{\"success\":\"true\",\"api\":\"Monthly Average Exchange Rate - THB / Foreign Currency\",\"timestamp\":\"2018-06-14 14:23:58\",\"data\":{\"data_header\":{\"report_name_eng\":\"Rates of Exchange of Commercial Banks in Bangkok Metropolis (2002-present)\",\"report_name_th\":\"อัตราแลกเปลี่ยนเฉลี่ยของธนาคารพาณิชย์ในกรุงเทพมหานคร (2545-ปัจจุบัน)\",\"report_uoq_name_eng\":\"(Unit : Baht / 1 Unit of Foreign Currency)\",\"report_uoq_name_th\":\"(หน่วย : บาท ต่อ 1 หน่วยเงินตราต่างประเทศ)\",\"report_source_of_data\":[{\"source_of_data_eng\":\"Bank of Thailand\",\"source_of_data_th\":\"ธนาคารแห่งประเทศไทย\"}],\"report_remark\":[{\"report_remark_eng\":\"Since Nov 16, 2015 the data regarding Buying Transfer Rate of PKR has been changed to Buying Rate using Foreign Exchange Rates (THOMSON REUTERS) with Bangkok Market Crossing.\",\"report_remark_th\":\"ตั้งแต่วันที่ 16 พ.ย. 2558 ข้อมูลในอัตราซื้อเงินโอนของสกุล PKR ได้เปลี่ยนเป็นอัตราซื้อที่ใช้อัตราในตลาดต่างประเทศ (ทอมสันรอยเตอร์) คำนวณผ่านอัตราซื้อขายเงินดอลลาร์ สรอ. ในตลาดกรุงเทพฯ\"}],\"last_updated\":\"2018-06-13\"},\"data_detail\":[{\"period\":\"2002-02\",\"currency_id\":\"USD\",\"currency_name_th\":\"สหรัฐอเมริกา : ดอลลาร์ (USD)\",\"currency_name_eng\":\"USA : DOLLAR (USD) \",\"buying_sight\":\"43.6288000\",\"buying_transfer\":\"43.7256000\",\"selling\":\"43.9254000\",\"mid_rate\":\"43.7771000\"},{\"period\":\"2002-01\",\"currency_id\":\"USD\",\"currency_name_th\":\"สหรัฐอเมริกา : ดอลลาร์ (USD)\",\"currency_name_eng\":\"USA : DOLLAR (USD) \",\"buying_sight\":\"43.8354000\",\"buying_transfer\":\"43.9321000\",\"selling\":\"44.1279000\",\"mid_rate\":\"43.9817000\"}]}}}'"
      ]
     },
     "execution_count": 62,
     "metadata": {},
     "output_type": "execute_result"
    }
   ],
   "source": [
    "response.text"
   ]
  },
  {
   "cell_type": "code",
   "execution_count": 63,
   "metadata": {},
   "outputs": [],
   "source": [
    "import pandas as pd"
   ]
  },
  {
   "cell_type": "code",
   "execution_count": 64,
   "metadata": {
    "scrolled": true
   },
   "outputs": [
    {
     "name": "stdout",
     "output_type": "stream",
     "text": [
      "<class 'dict'>\n"
     ]
    },
    {
     "data": {
      "text/plain": [
       "{'result': {'success': 'true',\n",
       "  'api': 'Monthly Average Exchange Rate - THB / Foreign Currency',\n",
       "  'timestamp': '2018-06-14 14:23:58',\n",
       "  'data': {'data_header': {'report_name_eng': 'Rates of Exchange of Commercial Banks in Bangkok Metropolis (2002-present)',\n",
       "    'report_name_th': 'อัตราแลกเปลี่ยนเฉลี่ยของธนาคารพาณิชย์ในกรุงเทพมหานคร (2545-ปัจจุบัน)',\n",
       "    'report_uoq_name_eng': '(Unit : Baht / 1 Unit of Foreign Currency)',\n",
       "    'report_uoq_name_th': '(หน่วย : บาท ต่อ 1 หน่วยเงินตราต่างประเทศ)',\n",
       "    'report_source_of_data': [{'source_of_data_eng': 'Bank of Thailand',\n",
       "      'source_of_data_th': 'ธนาคารแห่งประเทศไทย'}],\n",
       "    'report_remark': [{'report_remark_eng': 'Since Nov 16, 2015 the data regarding Buying Transfer Rate of PKR has been changed to Buying Rate using Foreign Exchange Rates (THOMSON REUTERS) with Bangkok Market Crossing.',\n",
       "      'report_remark_th': 'ตั้งแต่วันที่ 16 พ.ย. 2558 ข้อมูลในอัตราซื้อเงินโอนของสกุล PKR ได้เปลี่ยนเป็นอัตราซื้อที่ใช้อัตราในตลาดต่างประเทศ (ทอมสันรอยเตอร์) คำนวณผ่านอัตราซื้อขายเงินดอลลาร์ สรอ. ในตลาดกรุงเทพฯ'}],\n",
       "    'last_updated': '2018-06-13'},\n",
       "   'data_detail': [{'period': '2002-02',\n",
       "     'currency_id': 'USD',\n",
       "     'currency_name_th': 'สหรัฐอเมริกา : ดอลลาร์ (USD)',\n",
       "     'currency_name_eng': 'USA : DOLLAR (USD) ',\n",
       "     'buying_sight': '43.6288000',\n",
       "     'buying_transfer': '43.7256000',\n",
       "     'selling': '43.9254000',\n",
       "     'mid_rate': '43.7771000'},\n",
       "    {'period': '2002-01',\n",
       "     'currency_id': 'USD',\n",
       "     'currency_name_th': 'สหรัฐอเมริกา : ดอลลาร์ (USD)',\n",
       "     'currency_name_eng': 'USA : DOLLAR (USD) ',\n",
       "     'buying_sight': '43.8354000',\n",
       "     'buying_transfer': '43.9321000',\n",
       "     'selling': '44.1279000',\n",
       "     'mid_rate': '43.9817000'}]}}}"
      ]
     },
     "execution_count": 64,
     "metadata": {},
     "output_type": "execute_result"
    }
   ],
   "source": [
    "j = pd.io.json.loads(response.text)\n",
    "print(type(j))\n",
    "j"
   ]
  },
  {
   "cell_type": "code",
   "execution_count": 65,
   "metadata": {},
   "outputs": [
    {
     "data": {
      "text/plain": [
       "[{'period': '2002-02',\n",
       "  'currency_id': 'USD',\n",
       "  'currency_name_th': 'สหรัฐอเมริกา : ดอลลาร์ (USD)',\n",
       "  'currency_name_eng': 'USA : DOLLAR (USD) ',\n",
       "  'buying_sight': '43.6288000',\n",
       "  'buying_transfer': '43.7256000',\n",
       "  'selling': '43.9254000',\n",
       "  'mid_rate': '43.7771000'},\n",
       " {'period': '2002-01',\n",
       "  'currency_id': 'USD',\n",
       "  'currency_name_th': 'สหรัฐอเมริกา : ดอลลาร์ (USD)',\n",
       "  'currency_name_eng': 'USA : DOLLAR (USD) ',\n",
       "  'buying_sight': '43.8354000',\n",
       "  'buying_transfer': '43.9321000',\n",
       "  'selling': '44.1279000',\n",
       "  'mid_rate': '43.9817000'}]"
      ]
     },
     "execution_count": 65,
     "metadata": {},
     "output_type": "execute_result"
    }
   ],
   "source": [
    "j['result']['data']['data_detail']"
   ]
  },
  {
   "cell_type": "code",
   "execution_count": 66,
   "metadata": {},
   "outputs": [
    {
     "data": {
      "text/html": [
       "<div>\n",
       "<style scoped>\n",
       "    .dataframe tbody tr th:only-of-type {\n",
       "        vertical-align: middle;\n",
       "    }\n",
       "\n",
       "    .dataframe tbody tr th {\n",
       "        vertical-align: top;\n",
       "    }\n",
       "\n",
       "    .dataframe thead th {\n",
       "        text-align: right;\n",
       "    }\n",
       "</style>\n",
       "<table border=\"1\" class=\"dataframe\">\n",
       "  <thead>\n",
       "    <tr style=\"text-align: right;\">\n",
       "      <th></th>\n",
       "      <th>buying_sight</th>\n",
       "      <th>buying_transfer</th>\n",
       "      <th>currency_id</th>\n",
       "      <th>currency_name_eng</th>\n",
       "      <th>currency_name_th</th>\n",
       "      <th>mid_rate</th>\n",
       "      <th>period</th>\n",
       "      <th>selling</th>\n",
       "    </tr>\n",
       "  </thead>\n",
       "  <tbody>\n",
       "    <tr>\n",
       "      <th>0</th>\n",
       "      <td>43.6288000</td>\n",
       "      <td>43.7256000</td>\n",
       "      <td>USD</td>\n",
       "      <td>USA : DOLLAR (USD)</td>\n",
       "      <td>สหรัฐอเมริกา : ดอลลาร์ (USD)</td>\n",
       "      <td>43.7771000</td>\n",
       "      <td>2002-02</td>\n",
       "      <td>43.9254000</td>\n",
       "    </tr>\n",
       "    <tr>\n",
       "      <th>1</th>\n",
       "      <td>43.8354000</td>\n",
       "      <td>43.9321000</td>\n",
       "      <td>USD</td>\n",
       "      <td>USA : DOLLAR (USD)</td>\n",
       "      <td>สหรัฐอเมริกา : ดอลลาร์ (USD)</td>\n",
       "      <td>43.9817000</td>\n",
       "      <td>2002-01</td>\n",
       "      <td>44.1279000</td>\n",
       "    </tr>\n",
       "  </tbody>\n",
       "</table>\n",
       "</div>"
      ],
      "text/plain": [
       "  buying_sight buying_transfer currency_id    currency_name_eng  \\\n",
       "0   43.6288000      43.7256000         USD  USA : DOLLAR (USD)    \n",
       "1   43.8354000      43.9321000         USD  USA : DOLLAR (USD)    \n",
       "\n",
       "               currency_name_th    mid_rate   period     selling  \n",
       "0  สหรัฐอเมริกา : ดอลลาร์ (USD)  43.7771000  2002-02  43.9254000  \n",
       "1  สหรัฐอเมริกา : ดอลลาร์ (USD)  43.9817000  2002-01  44.1279000  "
      ]
     },
     "execution_count": 66,
     "metadata": {},
     "output_type": "execute_result"
    }
   ],
   "source": [
    "df = pd.DataFrame(data =j['result']['data']['data_detail'])\n",
    "df"
   ]
  },
  {
   "cell_type": "code",
   "execution_count": 67,
   "metadata": {},
   "outputs": [
    {
     "data": {
      "text/plain": [
       "buying_sight         object\n",
       "buying_transfer      object\n",
       "currency_id          object\n",
       "currency_name_eng    object\n",
       "currency_name_th     object\n",
       "mid_rate             object\n",
       "period               object\n",
       "selling              object\n",
       "dtype: object"
      ]
     },
     "execution_count": 67,
     "metadata": {},
     "output_type": "execute_result"
    }
   ],
   "source": [
    "df.dtypes"
   ]
  },
  {
   "cell_type": "code",
   "execution_count": 68,
   "metadata": {},
   "outputs": [],
   "source": [
    "df['period'] = pd.to_datetime(df['period'])\n",
    "df.buying_sight = pd.to_numeric(df['buying_sight'])    #df.buying_sight = df.buying_sight.astype('float')     \n",
    "df['buying_transfer'] = pd.to_numeric(df['buying_transfer'])\n",
    "df['mid_rate'] = df['mid_rate'].astype('float')\n",
    "df['selling'] = df['selling'].astype('float')"
   ]
  },
  {
   "cell_type": "code",
   "execution_count": 69,
   "metadata": {},
   "outputs": [
    {
     "data": {
      "text/plain": [
       "buying_sight                float64\n",
       "buying_transfer             float64\n",
       "currency_id                  object\n",
       "currency_name_eng            object\n",
       "currency_name_th             object\n",
       "mid_rate                    float64\n",
       "period               datetime64[ns]\n",
       "selling                     float64\n",
       "dtype: object"
      ]
     },
     "execution_count": 69,
     "metadata": {},
     "output_type": "execute_result"
    }
   ],
   "source": [
    "df.dtypes"
   ]
  },
  {
   "cell_type": "code",
   "execution_count": 70,
   "metadata": {},
   "outputs": [],
   "source": [
    "df.set_index('period', inplace=True)"
   ]
  },
  {
   "cell_type": "code",
   "execution_count": 71,
   "metadata": {},
   "outputs": [
    {
     "data": {
      "text/html": [
       "<div>\n",
       "<style scoped>\n",
       "    .dataframe tbody tr th:only-of-type {\n",
       "        vertical-align: middle;\n",
       "    }\n",
       "\n",
       "    .dataframe tbody tr th {\n",
       "        vertical-align: top;\n",
       "    }\n",
       "\n",
       "    .dataframe thead th {\n",
       "        text-align: right;\n",
       "    }\n",
       "</style>\n",
       "<table border=\"1\" class=\"dataframe\">\n",
       "  <thead>\n",
       "    <tr style=\"text-align: right;\">\n",
       "      <th></th>\n",
       "      <th>buying_sight</th>\n",
       "      <th>buying_transfer</th>\n",
       "      <th>currency_id</th>\n",
       "      <th>currency_name_eng</th>\n",
       "      <th>currency_name_th</th>\n",
       "      <th>mid_rate</th>\n",
       "      <th>selling</th>\n",
       "    </tr>\n",
       "    <tr>\n",
       "      <th>period</th>\n",
       "      <th></th>\n",
       "      <th></th>\n",
       "      <th></th>\n",
       "      <th></th>\n",
       "      <th></th>\n",
       "      <th></th>\n",
       "      <th></th>\n",
       "    </tr>\n",
       "  </thead>\n",
       "  <tbody>\n",
       "    <tr>\n",
       "      <th>2002-02-01</th>\n",
       "      <td>43.6288</td>\n",
       "      <td>43.7256</td>\n",
       "      <td>USD</td>\n",
       "      <td>USA : DOLLAR (USD)</td>\n",
       "      <td>สหรัฐอเมริกา : ดอลลาร์ (USD)</td>\n",
       "      <td>43.7771</td>\n",
       "      <td>43.9254</td>\n",
       "    </tr>\n",
       "    <tr>\n",
       "      <th>2002-01-01</th>\n",
       "      <td>43.8354</td>\n",
       "      <td>43.9321</td>\n",
       "      <td>USD</td>\n",
       "      <td>USA : DOLLAR (USD)</td>\n",
       "      <td>สหรัฐอเมริกา : ดอลลาร์ (USD)</td>\n",
       "      <td>43.9817</td>\n",
       "      <td>44.1279</td>\n",
       "    </tr>\n",
       "  </tbody>\n",
       "</table>\n",
       "</div>"
      ],
      "text/plain": [
       "            buying_sight  buying_transfer currency_id    currency_name_eng  \\\n",
       "period                                                                       \n",
       "2002-02-01       43.6288          43.7256         USD  USA : DOLLAR (USD)    \n",
       "2002-01-01       43.8354          43.9321         USD  USA : DOLLAR (USD)    \n",
       "\n",
       "                        currency_name_th  mid_rate  selling  \n",
       "period                                                       \n",
       "2002-02-01  สหรัฐอเมริกา : ดอลลาร์ (USD)   43.7771  43.9254  \n",
       "2002-01-01  สหรัฐอเมริกา : ดอลลาร์ (USD)   43.9817  44.1279  "
      ]
     },
     "execution_count": 71,
     "metadata": {},
     "output_type": "execute_result"
    }
   ],
   "source": [
    "df"
   ]
  }
 ],
 "metadata": {
  "kernelspec": {
   "display_name": "Python 3",
   "language": "python",
   "name": "python3"
  },
  "language_info": {
   "codemirror_mode": {
    "name": "ipython",
    "version": 3
   },
   "file_extension": ".py",
   "mimetype": "text/x-python",
   "name": "python",
   "nbconvert_exporter": "python",
   "pygments_lexer": "ipython3",
   "version": "3.6.5"
  }
 },
 "nbformat": 4,
 "nbformat_minor": 2
}
